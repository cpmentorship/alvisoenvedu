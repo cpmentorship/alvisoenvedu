{
 "cells": [
  {
   "cell_type": "markdown",
   "metadata": {},
   "source": [
    "## WOOT WOOT\n",
    "\n",
    "This is the first assignment! Yay\n",
    "\n",
    "Quick notes:\n",
    "\n",
    "You can press `shift` + `enter` to run the selected cell\n",
    "\n",
    "Don't hesitate to contact me (669-677-0450) if you feel stuck or other issues (like tables aren't loading in)\n",
    "\n",
    "We will go over the questions next week during class"
   ]
  },
  {
   "cell_type": "code",
   "execution_count": null,
   "metadata": {},
   "outputs": [],
   "source": [
    "import pandas as pd\n",
    "import numpy as np"
   ]
  },
  {
   "cell_type": "markdown",
   "metadata": {},
   "source": [
    "To begin the assignment, let's create a new data called `ice_cream`\n",
    "\n",
    "There are three columns in `ice_cream`:\\\n",
    "&emsp; &emsp; 1. `Flavor`: the flavor of the ice cream\\\n",
    "&emsp; &emsp; 2. `Color`: the color of the ice cream\\\n",
    "&emsp; &emsp; 3. `Price`: the price of the ice cream\\"
   ]
  },
  {
   "cell_type": "code",
   "execution_count": null,
   "metadata": {},
   "outputs": [],
   "source": [
    "ice_cream = pd.DataFrame(\n",
    "    data = {'flavor': ['chocolate', 'mint chocolate', 'strawberry', 'vanilla'],\n",
    "          'color': ['brown', 'green', 'red', 'white'],\n",
    "          'price': [1.0, 0.75, 0.35, 0.05]\n",
    "          })\n",
    "ice_cream"
   ]
  },
  {
   "cell_type": "markdown",
   "metadata": {},
   "source": [
    "## Task 1: The Basics\n",
    "\n",
    "**1a)** Add a column of integers containing 1, 2, 3, and 4 called `rating` to the `ice_cream` table, which expresses **your personal rating** of the flavors (1 is best; 4 is worst (aka mint chocolate)). There is no right order, it is completely your choice of rankings."
   ]
  },
  {
   "cell_type": "code",
   "execution_count": null,
   "metadata": {},
   "outputs": [],
   "source": [
    "...\n",
    "\n",
    "ice_cream"
   ]
  },
  {
   "cell_type": "markdown",
   "metadata": {},
   "source": [
    "A potential final dataframe:"
   ]
  },
  {
   "cell_type": "markdown",
   "metadata": {},
   "source": [
    "|       | flavor         | color | price | rating |\n",
    "|-------|----------------|-------|-------|--------|\n",
    "| 0     | chocolate      | brown | 1.00  | 1      |\n",
    "| 1     | mint chocolate | green | 0.75  | 4      |\n",
    "| 2     | strawberry     | red   | 0.35  | 3      |\n",
    "| 3     | vanilla        | white | 0.05  | 2      |\n",
    "\n"
   ]
  },
  {
   "cell_type": "markdown",
   "metadata": {},
   "source": [
    "**1b)** Right now our column names are quite ugly! Use the `.rename()` function to change the column names so that they start with a capital letter. Assign this to a new table called `ice_cream_cap`"
   ]
  },
  {
   "cell_type": "code",
   "execution_count": null,
   "metadata": {},
   "outputs": [],
   "source": [
    "ice_cream_cap = ...\n",
    "ice_cream_cap"
   ]
  },
  {
   "cell_type": "markdown",
   "metadata": {},
   "source": [
    "The table should now look like something along the lines of this:"
   ]
  },
  {
   "cell_type": "markdown",
   "metadata": {},
   "source": [
    "|       | Flavor         | Color | Price | Rating |\n",
    "|-------|----------------|-------|-------|--------|\n",
    "| 0     | chocolate      | brown | 1.00  | 1      |\n",
    "| 1     | mint chocolate | green | 0.75  | 4      |\n",
    "| 2     | strawberry     | red   | 0.35  | 3      |\n",
    "| 3     | vanilla        | white | 0.05  | 2      |"
   ]
  },
  {
   "cell_type": "markdown",
   "metadata": {},
   "source": [
    "**1c)** Oh no! Jesse hates mint chocolate ice cream! Use the `.loc` or `.iloc` function to remove mint chocolate from the table. Assign this new table to a new table called `no_mint`.\n",
    "\n",
    "Don't froget to reset your index!\n",
    "\n",
    "Hint: You might have to drop a column"
   ]
  },
  {
   "cell_type": "code",
   "execution_count": null,
   "metadata": {},
   "outputs": [],
   "source": [
    "no_mint = ...\n",
    "no_mint"
   ]
  },
  {
   "cell_type": "markdown",
   "metadata": {},
   "source": [
    "|       | Flavor         | Color | Price | Rating |\n",
    "|-------|----------------|-------|-------|--------|\n",
    "| 0     | chocolate      | brown | 1.00  | 1      |\n",
    "| 1     | strawberry     | red   | 0.35  | 3      |\n",
    "| 2     | vanilla        | white | 0.05  | 2      |"
   ]
  },
  {
   "cell_type": "markdown",
   "metadata": {},
   "source": [
    "**1d)** The ice cream store has experienced the determental effects of inflation! Add one dollar then square the price of all values in the `Price` column.\n",
    "\n",
    "Make sure to replace the old `Price` column\n",
    "\n",
    "Also make sure to use the `no_mint` table"
   ]
  },
  {
   "cell_type": "code",
   "execution_count": null,
   "metadata": {},
   "outputs": [],
   "source": [
    "...\n",
    "no_mint"
   ]
  },
  {
   "cell_type": "markdown",
   "metadata": {},
   "source": [
    "Perhaps a final answer looks like this:"
   ]
  },
  {
   "cell_type": "markdown",
   "metadata": {},
   "source": [
    "|       | Flavor         | Color | Price | Rating |\n",
    "|-------|----------------|-------|-------|--------|\n",
    "| 0     | chocolate      | brown | 4.0000  | 1      |\n",
    "| 1     | strawberry     | red   | 1.8225  | 3      |\n",
    "| 2     | vanilla        | white | 1.1025\t  | 2      |"
   ]
  },
  {
   "cell_type": "markdown",
   "metadata": {},
   "source": [
    "## Task 2: Babynames\n",
    "\n",
    "Welcome back to our personal favorite dataset: `babynames`! Run the following cell to load in the table!"
   ]
  },
  {
   "cell_type": "code",
   "execution_count": null,
   "metadata": {},
   "outputs": [],
   "source": [
    "file_path = \"data/namesbystate_ca.txt.gz\"\n",
    "column_labels = ['State', 'Sex', 'Year', 'Name', 'Count']\n",
    "\n",
    "babynames = pd.read_csv(file_path, names=column_labels)\n",
    "assert (len(babynames == 407428))\n",
    "babynames.head(10)"
   ]
  },
  {
   "cell_type": "markdown",
   "metadata": {},
   "source": [
    "Make sure the table has similar entries to the following:\n",
    "| Index | State | Sex | Year | Name      | Count |\n",
    "|-------|-------|-----|------|-----------|-------|\n",
    "| 0     | CA    | F   | 1910 | Mary      | 295   |\n",
    "| 1     | CA    | F   | 1910 | Helen     | 239   |\n",
    "| 2     | CA    | F   | 1910 | Dorothy   | 220   |\n",
    "| 3     | CA    | F   | 1910 | Margaret  | 163   |\n",
    "| 4     | CA    | F   | 1910 | Frances   | 134   |\n",
    "| 5     | CA    | F   | 1910 | Ruth      | 128   |\n",
    "| 6     | CA    | F   | 1910 | Evelyn    | 126   |\n",
    "| 7     | CA    | F   | 1910 | Alice     | 118   |\n",
    "| 8     | CA    | F   | 1910 | Virginia  | 101   |\n",
    "| 9     | CA    | F   | 1910 | Elizabeth | 93    |"
   ]
  },
  {
   "cell_type": "markdown",
   "metadata": {},
   "source": [
    "Recall that the babynames dataset contains a record of the given names of babies born in the United States each year. The next two questions will be about boolean arrays. Recall the following table:\n",
    "\n",
    "Symbol | Usage      | Meaning \n",
    "------ | ---------- | -------------------------------------\n",
    "==   | a == b   | Does a equal b?\n",
    "<=   | a <= b   | Is a less than or equal to b?\n",
    "&gt;=   | a >= b   | Is a greater than or equal to b?\n",
    "<    | a < b    | Is a less than b?\n",
    "&#62;    | a &#62; b    | Is a greater than b?\n",
    "~    | ~p       | Returns negation of p\n",
    "&#124; | p &#124; q | p OR q\n",
    "&    | p & q    | p AND q\n",
    "^  | p ^ q | p XOR q (exclusive or)"
   ]
  },
  {
   "cell_type": "markdown",
   "metadata": {},
   "source": [
    "**2a)** I'm curious about the total number of people named `Allen` in California throughout the years! Use the `babynames` dataframe to sum up counts of all the people named `Allen` in California"
   ]
  },
  {
   "cell_type": "code",
   "execution_count": null,
   "metadata": {},
   "outputs": [],
   "source": [
    "allen = ...\n",
    "allen"
   ]
  },
  {
   "cell_type": "markdown",
   "metadata": {},
   "source": [
    "**2b)** Using boolean arrays, select the names in the year 2004 (from `babynames`) that have larger than 3000 counts\n",
    "\n",
    "Reassign this dataframe to `babynames_2004`\n",
    "\n",
    "Make sure you don't modify `babynames`"
   ]
  },
  {
   "cell_type": "code",
   "execution_count": null,
   "metadata": {},
   "outputs": [],
   "source": [
    "babynames_2004 = ...\n",
    "babynames_2004"
   ]
  },
  {
   "cell_type": "markdown",
   "metadata": {},
   "source": [
    "The final answer should look like:\n",
    "| Index  | State | Sex | Year | Name    | Count |\n",
    "|--------|-------|-----|------|---------|-------|\n",
    "| 164382 | CA    | F   | 2004 | Emily   | 3416  |\n",
    "| 352685 | CA    | M   | 2004 | Daniel  | 4170  |\n",
    "| 352686 | CA    | M   | 2004 | Anthony | 3808  |\n",
    "| 352687 | CA    | M   | 2004 | Andrew  | 3492  |\n",
    "| 352688 | CA    | M   | 2004 | Jose    | 3386  |\n",
    "| 352689 | CA    | M   | 2004 | Jacob   | 3340  |\n",
    "| 352690 | CA    | M   | 2004 | Joshua  | 3301  |\n",
    "| 352691 | CA    | M   | 2004 | David   | 3267  |\n",
    "| 352692 | CA    | M   | 2004 | Angel   | 3211  |"
   ]
  },
  {
   "cell_type": "markdown",
   "metadata": {},
   "source": [
    "**2c)** Create a table using `babynames` with two columns: 1. Year and 2. The count of people who were born in that year.\n",
    "\n",
    "Hint: We have done this in lecture!\n",
    "\n",
    "Agian, make sure you don't modify `babynames`"
   ]
  },
  {
   "cell_type": "code",
   "execution_count": null,
   "metadata": {},
   "outputs": [],
   "source": [
    "babynames_sum = ...\n",
    "babynames_sum.head(10)"
   ]
  },
  {
   "cell_type": "markdown",
   "metadata": {},
   "source": [
    "The first 10 rows:\n",
    "\n",
    "| Year | Count |\n",
    "|------|-------|\n",
    "| 1910 | 9163  |\n",
    "| 1911 | 9983  |\n",
    "| 1912 | 17946 |\n",
    "| 1913 | 22094 |\n",
    "| 1914 | 26926 |\n",
    "| 1915 | 35835 |\n",
    "| 1916 | 37501 |\n",
    "| 1917 | 39916 |\n",
    "| 1918 | 44692 |\n",
    "| 1919 | 45119 |"
   ]
  },
  {
   "cell_type": "markdown",
   "metadata": {},
   "source": [
    "**2d)** **[Challege]** Output the name with the most total count througout the 2000s (Year 2000 and after) in the `babynames` table.\n",
    "\n",
    "Note:\n",
    "\n",
    "The output should be a singular string of the name\n",
    "\n",
    "There is purposely very little information"
   ]
  },
  {
   "cell_type": "code",
   "execution_count": null,
   "metadata": {},
   "outputs": [],
   "source": [
    "..."
   ]
  },
  {
   "cell_type": "markdown",
   "metadata": {},
   "source": [
    "## Task 3: Let Us Merge!\n"
   ]
  },
  {
   "cell_type": "markdown",
   "metadata": {},
   "source": [
    "Let's introduce a new data set: `elections`! This table consists of the `Year`, `Candidate`, `Party`, `Popular vote`, `Result`, and `%` of every candidates election!"
   ]
  },
  {
   "cell_type": "code",
   "execution_count": null,
   "metadata": {},
   "outputs": [],
   "source": [
    "elections = pd.read_csv(\"data/elections.csv\")\n",
    "elections.head(5)"
   ]
  },
  {
   "cell_type": "markdown",
   "metadata": {},
   "source": [
    "Double check the table looks like this:\n",
    "\n",
    "|  | Year | Candidate        | Party                 | Popular Vote | Result | Percentage |\n",
    "|-------|------|------------------|-----------------------|--------------|--------|------------|\n",
    "| 0     | 1824 | Andrew Jackson   | Democratic-Republican | 151271       | loss   | 57.210122  |\n",
    "| 1     | 1824 | John Quincy Adams| Democratic-Republican | 113142       | win    | 42.789878  |\n",
    "| 2     | 1828 | Andrew Jackson   | Democratic            | 642806       | win    | 56.203927  |\n",
    "| 3     | 1828 | John Quincy Adams| National Republican   | 500897       | loss   | 43.796073  |\n",
    "| 4     | 1832 | Andrew Jackson   | Democratic            | 702735       | win    | 54.574789  |\n"
   ]
  },
  {
   "cell_type": "markdown",
   "metadata": {},
   "source": [
    "**3a)** Create a Series object that shows the best `%` for every party, sorted in decreasing order. Only include a party if their max `%` is more than 10."
   ]
  },
  {
   "cell_type": "code",
   "execution_count": null,
   "metadata": {},
   "outputs": [],
   "source": [
    "party_wins = ...\n",
    "party_wins"
   ]
  },
  {
   "cell_type": "markdown",
   "metadata": {},
   "source": [
    "The final series should have these entries (Not dataframe): \n",
    "\n",
    "| Party                   |  |\n",
    "|-------------------------|------------|\n",
    "| Democratic              | 61.344703  |\n",
    "| Republican              | 60.907806  |\n",
    "| Democratic-Republican   | 57.210122  |\n",
    "| National Union          | 54.951512  |\n",
    "| Whig                    | 53.051213  |\n",
    "| Liberal Republican      | 44.071406  |\n",
    "| National Republican     | 43.796073  |\n",
    "| Northern Democratic     | 29.522311  |\n",
    "| Progressive             | 27.457433  |\n",
    "| American                | 21.554001  |\n",
    "| Independent             | 18.956298  |\n",
    "| Southern Democratic     | 18.138998  |\n",
    "| American Independent    | 13.571218  |\n",
    "| Constitutional Union    | 12.639283  |\n",
    "| Free Soil               | 10.138474  |\n"
   ]
  },
  {
   "cell_type": "markdown",
   "metadata": {},
   "source": [
    "**3b)** This question will help you learn how to read documentation! Use `str.split`, and create a new column in the elections called `First Name` that is equal to the candidate's first name.\n",
    "\n",
    "See the **panda str** [documentation](https://pandas.pydata.org/docs/reference/api/pandas.Series.str.split.html) for `str.split`\n",
    "\n",
    "PS: Do not modify the `elections` dataframe!\n",
    "\n",
    "Hint: add `.str[0]` after your `str.split` call"
   ]
  },
  {
   "cell_type": "code",
   "execution_count": null,
   "metadata": {},
   "outputs": [],
   "source": [
    "elections_with_first_name = elections.copy()\n",
    "\n",
    "... \n",
    "\n",
    "elections_with_first_name\n"
   ]
  },
  {
   "cell_type": "markdown",
   "metadata": {},
   "source": [
    "The answer should look like:\n",
    "\n",
    "| Index | Year | Candidate        | Party               | Popular Vote | Result | Percentage | First Name |\n",
    "|-------|------|------------------|---------------------|--------------|--------|------------|------------|\n",
    "| 0     | 1824 | Andrew Jackson   | Democratic-Republican | 151271   | loss   | 57.210122  | Andrew     |\n",
    "| 1     | 1824 | John Quincy Adams| Democratic-Republican | 113142   | win    | 42.789878  | John       |\n",
    "| 2     | 1828 | Andrew Jackson   | Democratic          | 642806       | win    | 56.203927  | Andrew     |\n",
    "| 3     | 1828 | John Quincy Adams| National Republican | 500897       | loss   | 43.796073  | John       |\n",
    "| 4     | 1832 | Andrew Jackson   | Democratic          | 702735       | win    | 54.574789  | Andrew     |\n",
    "| ...   | ...  | ...              | ...                 | ...          | ...    | ...        | ...        |\n",
    "| 177   | 2016 | Jill Stein       | Green               | 1457226      | loss   | 1.073699   | Jill       |\n",
    "| 178   | 2020 | Joseph Biden     | Democratic          | 81268924     | win    | 51.311515  | Joseph     |\n",
    "| 179   | 2020 | Donald Trump     | Republican          | 74216154     | loss   | 46.858542  | Donald     |\n",
    "| 180   | 2020 | Jo Jorgensen     | Libertarian         | 1865724      | loss   | 1.177979   | Jo         |\n",
    "| 181   | 2020 | Howard Hawkins   | Green               | 405035       | loss   | 0.255731   | Howard     |\n"
   ]
  },
  {
   "cell_type": "markdown",
   "metadata": {},
   "source": [
    "Below I've created the table `babynames_2022` for you! It has the name and count of every name born in 2022!"
   ]
  },
  {
   "cell_type": "code",
   "execution_count": null,
   "metadata": {},
   "outputs": [],
   "source": [
    "babynames_2022 = (\n",
    "    babynames[babynames['Year'] == 2022]\n",
    "              .groupby(\"Name\")\n",
    "              .sum()[[\"Count\"]]\n",
    "              .reset_index()\n",
    ")\n",
    "babynames_2022"
   ]
  },
  {
   "cell_type": "markdown",
   "metadata": {},
   "source": [
    "**3c)** Merge `babynames_2022` with `elections_with_first_name` to see how popular the presidents name was!"
   ]
  },
  {
   "cell_type": "code",
   "execution_count": null,
   "metadata": {},
   "outputs": [],
   "source": [
    "name_popularity = ...\n",
    "name_popularity"
   ]
  },
  {
   "cell_type": "markdown",
   "metadata": {},
   "source": [
    "Final result is something like:\n",
    "\n",
    "|  | Name    | Count | Year | Candidate         | Party       | Popular vote | Result | Percentage | First Name |\n",
    "|-------|---------|-------|------|-------------------|-------------|--------------|--------|------------|------------|\n",
    "| 0     | Aaron   | 903   | 1920 | Aaron S. Watkins  | Prohibition | 188787       | loss   | 0.708351   | Aaron      |\n",
    "| 1     | Abraham | 353   | 1860 | Abraham Lincoln   | Republican  | 1855993      | win    | 39.699408  | Abraham    |\n",
    "| 2     | Abraham | 353   | 1864 | Abraham Lincoln   | National Union | 2211317  | win    | 54.951512  | Abraham    |\n",
    "| 3     | Allan   | 38    | 1916 | Allan L. Benson   | Socialist   | 590524       | loss   | 3.194193   | Allan      |\n",
    "| 4     | Andre   | 242   | 1992 | Andre Marrou      | Libertarian | 290087       | loss   | 0.278516   | Andre      |\n",
    "| ...   | ...     | ...   | ...  | ...               | ...         | ...          | ...    | ...        | ...        |\n",
    "| 139   | William | 831   | 1932 | William Z. Foster | Communist   | 103307       | loss   | 0.261069   | William    |\n",
    "| 140   | William | 831   | 1936 | William Lemke     | Union       | 892378       | loss   | 1.960733   | William    |\n",
    "| 141   | Woodrow | 6     | 1912 | Woodrow Wilson    | Democratic  | 6296284      | win    | 41.933422  | Woodrow    |\n",
    "| 142   | Woodrow | 6     | 1916 | Woodrow Wilson    | Democratic  | 9126868      | win    | 49.367987  | Woodrow    |\n",
    "| 143   | Zachary | 296   | 1848 | Zachary Taylor    | Whig        | 1360235      | win    | 47.309296  | Zachary    |\n"
   ]
  },
  {
   "cell_type": "markdown",
   "metadata": {},
   "source": [
    "**3d)** Using `name_popularity` create the pivot table below!\n",
    "\n",
    "| Party                   | Popular Vote (Loss) | Popular Vote (Win) |\n",
    "|-------------------------|---------------------|--------------------|\n",
    "| American                | 158271              | 0                  |\n",
    "| American Independent    | 11172260            | 0                  |\n",
    "| Anti-Masonic            | 100715              | 0                  |\n",
    "| Anti-Monopoly           | 134294              | 0                  |\n",
    "| Citizens                | 233052              | 0                  |\n",
    "| Communist               | 103307              | 0                  |\n",
    "| Constitution            | 346721              | 0                  |\n",
    "| Constitutional Union    | 590901              | 0                  |\n",
    "| Democratic              | 314190254           | 441751531          |\n",
    "| Democratic-Republican   | 151271              | 113142             |\n",
    "\n",
    "Hints:\n",
    "\n",
    "Here's the pivot table [documentation](https://pandas.pydata.org/docs/reference/api/pandas.pivot_table.html).\n",
    "\n",
    "You might find **pivot_table's fill_value** useful"
   ]
  },
  {
   "cell_type": "code",
   "execution_count": null,
   "metadata": {},
   "outputs": [],
   "source": [
    "pivot_name_popularity = ...\n",
    "pivot_name_popularity.head(10)"
   ]
  },
  {
   "cell_type": "markdown",
   "metadata": {},
   "source": [
    "## Congratulations\n",
    "\n",
    "Don't worry if you didn't get all the questions! We will review this assignment in class next week. Don't hesitate to ask me (my phone number is 669-677-0450) for help!"
   ]
  }
 ],
 "metadata": {
  "kernelspec": {
   "display_name": "Python 3",
   "language": "python",
   "name": "python3"
  },
  "language_info": {
   "codemirror_mode": {
    "name": "ipython",
    "version": 3
   },
   "file_extension": ".py",
   "mimetype": "text/x-python",
   "name": "python",
   "nbconvert_exporter": "python",
   "pygments_lexer": "ipython3",
   "version": "3.10.11"
  }
 },
 "nbformat": 4,
 "nbformat_minor": 2
}
